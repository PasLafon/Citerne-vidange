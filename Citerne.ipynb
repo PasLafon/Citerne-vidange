{
 "cells": [
  {
   "cell_type": "markdown",
   "metadata": {},
   "source": [
    "## Citerne ..."
   ]
  },
  {
   "cell_type": "markdown",
   "metadata": {},
   "source": [
    "Une citerne alimente un réseau d’eau dans une ferme, dont la structure est représentée sur la ﬁgure ci-dessous.\n",
    "\n",
    "Pour des contraintes géométriques, le réseau comporte plusieurs coudes, et une réduction de section brusque. L’extrémité est équipée d’une vanne de réglage.\n",
    "\n",
    "On note $h$ la hauteur entre la surface libre dans la citerne et la sortie à l’atmosphère, $D$ le diamètre du tuyau en amont de la réduction de section, et $d$ le diamètre en aval. On notera $\\alpha=d/D$."
   ]
  },
  {
   "cell_type": "markdown",
   "metadata": {},
   "source": [
    "<img src=\"fig-citerne.png\" width=\"60%\" />"
   ]
  },
  {
   "cell_type": "markdown",
   "metadata": {},
   "source": [
    "On note $L$ la longueur totale de la conduite de grand diamètre, et $l$ celle de petit diamètre.\n",
    "\n",
    "On notera respectivement $V$ et $v$ les vitesses dans les conduites de diamètre $D$ et $d$.\n",
    "\n",
    "Pour les coeﬃcients de perte de charge singulière, on prendra les expressions rappelées ci-dessous :\n",
    "\n",
    "* Perte de charges régulières : $\\phi_v= \\rho g h_v = \\lambda\\frac{L}{D}\\frac{1}{2}\\rho U^2$ avec $\\lambda$ coef. de frottement, $L$ longeur de l'écoulement, $D$ diamètre du tube, $U$ vitesse moyenne.\n",
    "\n",
    "* Perte de charges singulières : $\\phi_v= \\rho g h_v = \\zeta \\frac{1}{2}\\rho U^2$\n",
    "\n",
    "    * Elargissement brusque : $\\zeta_E=\\left(1-\\frac{S_1}{S_2}\\right)^2$ en référence à la vitesse amont $U$, $S_1$ section amont.\n",
    "    \n",
    "    * Rétrécissement brusque : $\\zeta_R=0.45\\left(1-\\frac{S_1}{S_2}\\right)^2$ en référence à la vitesse aval $U$, $S_1$ section aval.\n",
    "    \n",
    "    * Tube plongeant dans un bac $\\zeta_b=1$\n",
    "    \n",
    "    * Coude : $\\zeta_c=0.8$\n",
    "    \n",
    "    * Vanne ouverte $\\zeta_v=1.2$\n",
    "        \n",
    "Pour les pertes de charges régulières on supposera a priori que l’écoulement est turbulent et on utilisera la formule de blasius :\n",
    "$$\\lambda=\\frac{0.3164}{\\mathcal{R}_e^{0.25}}$$"
   ]
  },
  {
   "cell_type": "markdown",
   "metadata": {},
   "source": [
    "1. On suppose la vanne de réglage complètement fermée, de telle sorte que le ﬂuide ne s’écoule pas. Quelle est la pression supportée par la vanne ?\n",
    "2. La vanne est ouverte complètement et le ﬂuide s’écoule avec un débit volumique $Q$. Exprimer une relation entre $v$, $V$ et $Q$.\n",
    "3. Exprimer les hauteurs de perte de charge $h_v$ dans chaque coude, dans le rétrécissement, et dans la vanne (on fera bien attention à quelle vitesse, $v$ ou $V$ , on utilise dans les expressions). On ne prendra pas en compte la perte de charge au niveau du raccordement du tuyau au fond de la citerne (point A).\n",
    "4. Exprimer la hauteur de perte de charge régulière dans la conduite de grand diamètre, et dans celle de petit diamètre (on fera bien attention aux vitesses, longueurs, diamètres, Reynolds, que l’on utilise dans les expressions).\n",
    "5. En sommant toutes les pertes de charge du réseau, et en notant $h_v$ la perte de charge totale, calculez la hauteur minimale $h$ pour que le ﬂuide s’écoule avec un débit volumique $Q$.\n",
    "6. Application numérique :\n",
    "\n",
    "    * Liquide = eau,\n",
    "    * $L=$ 60 m, $l =$ 10 m\n",
    "    * $D =$ 4.5 cm, $d =$ 2 cm\n",
    "    * $Q =$ 1 l/s\n",
    "* Calculez :\n",
    "    * les vitesses $v$ et $V$ ,\n",
    "    * les Reynolds dans les deux types de conduite, et verifiez que l'écoulement est bien turbulent,\n",
    "    * tous les $h_{vi}$ (coudes, vanne, rétrécissement, pertes linéiques sur $L$, pertes linéiques sur $l$),\n",
    "    * la perte de charge totale $h_v$\n",
    "    * la hauteur $h$.\n"
   ]
  },
  {
   "cell_type": "markdown",
   "metadata": {},
   "source": [
    "7. Pourquoi la perte de charge dans les coudes est-elle si faible ?\n",
    "\n",
    "8. A quelle hauteur $h$ jet monterait le jet à la sortie du réseau si le tuyau était orienté vers le haut. Exprimez à nouveau l’expression de $h$ trouvée à la question 5 en faisant intervenir cette dernière grandeur, et interprétez le résultat en termes énergétiques.\n",
    "9. Si la citerne était enterrée, et que l’on ait $h = 0$, quelle devrait être la puissance de la pompe utilisée pour obtenir le même débit (donner l’expression analytique puis la valeur numérique).\n"
   ]
  },
  {
   "cell_type": "markdown",
   "metadata": {},
   "source": [
    "---\n",
    "1. On suppose la vanne de réglage complètement fermée, de telle sorte que le ﬂuide ne s’écoule pas. Quelle est la pression supportée par la vanne ?"
   ]
  },
  {
   "cell_type": "markdown",
   "metadata": {},
   "source": [
    "Régime hypdrostatique la différence de pression amont/avant sur la vane est $\\Delta P=\\rho g h$."
   ]
  },
  {
   "cell_type": "markdown",
   "metadata": {},
   "source": [
    "2. La vanne est ouverte complètement et le ﬂuide s’écoule avec un débit volumique $Q$. Exprimer une relation entre $v$, $V$ et $Q$."
   ]
  },
  {
   "cell_type": "markdown",
   "metadata": {},
   "source": [
    "La conversation du débit donne :\n",
    "$$Q = V\\frac{\\pi D^2}{4} =  v\\frac{\\pi d^2}{4}$$\n",
    "\n",
    "Donc :\n",
    "$$V = v\\left(\\frac{d}{D}\\right)^2$$\n"
   ]
  },
  {
   "cell_type": "markdown",
   "metadata": {},
   "source": [
    "3. Exprimer les hauteurs de perte de charge $h_v$ dans chaque coude, dans le rétrécissement, et dans la vanne (on fera bien attention à quelle vitesse, $v$ ou $V$ , on utilise dans les expressions). On ne prendra pas en compte la perte de charge au niveau du raccordement du tuyau au fond de la citerne (point A)."
   ]
  },
  {
   "cell_type": "markdown",
   "metadata": {},
   "source": [
    "* Total des pertes de charges singulières  :\n",
    "\n",
    "$$h_{vs} = \\frac{1}{2g}\\left(5\\zeta_cV^2 + 0.45\\left(1-\\frac{d^2}{D^2}\\right)^2 v^2 + \\zeta_v v^2 \\right)$$ \n"
   ]
  },
  {
   "cell_type": "markdown",
   "metadata": {},
   "source": [
    "4. Exprimer la hauteur de perte de charge régulière dans la conduite de grand diamètre, et dans celle de petit diamètre (on fera bien attention aux vitesses, longueurs, diamètres, Reynolds, que l’on utilise dans les expressions)."
   ]
  },
  {
   "cell_type": "markdown",
   "metadata": {},
   "source": [
    "* Perte de charge répartie totale :\n",
    "\n",
    "$$h_{vr} = \\frac{1}{2g}\\left(\\frac{0.3164}{\\mathcal{R}_{e_L}^{0.25}}\\frac{L}{D}V^2 + \\frac{0.3164}{\\mathcal{R}_{e_l}^{0.25}}\\frac{l}{d}v^2 \\right)$$ \n",
    "\n",
    "Avec $\\mathcal{R}_{e_l} = \\rho \\dfrac{vd}{\\mu}$ et $\\mathcal{R}_{e_L} = \\rho \\dfrac{VD}{\\mu}$"
   ]
  },
  {
   "cell_type": "markdown",
   "metadata": {},
   "source": [
    "5. En sommant toutes les pertes de charge du réseau, et en notant $h_v$ la perte de charge totale, calculez la hauteur minimale $h$ pour que le ﬂuide s’écoule avec un débit volumique $Q$."
   ]
  },
  {
   "cell_type": "markdown",
   "metadata": {},
   "source": [
    "On suppose un régime d'écoulement permanent (ou lentement variable), Bernouilli généralisé entre un point de surface 1 et un point à sortie 2 de l'écoulement :\n",
    "\n",
    "$$\\left(P_2 + \\rho g z_2 + \\frac{1}{2}\\rho v_2^2\\right) - \\left(P_1 + \\rho g z_1 + \\frac{1}{2}\\rho v_1^2\\right) =  - \\Delta J_\\text{sur $L+l$}$$\n",
    "\n",
    "ou de maière équivalente :\n",
    "\n",
    "$$\\left(\\frac{P_2}{\\rho g} +  z_2 + \\frac{1}{2g}v_2^2\\right) - \\left(\\frac{P_1}{\\rho g} + z_1 + \\frac{1}{2g}v_1^2\\right) =  - h_{vp} - h_{vr}$$"
   ]
  },
  {
   "cell_type": "markdown",
   "metadata": {},
   "source": [
    "Avec $P_2=P_1=P_{atm}$, $z_2=0$ et $z_1=h$, $v_1\\simeq 0$ et $v_2=\\dfrac{4Q}{\\pi d^2}$\n",
    "\n",
    "$$\\dfrac{8Q^2}{g\\pi^2 d^4} - h =  - h_{vp} - h_{vr}\\Rightarrow h  = \\dfrac{8Q^2}{g\\pi^2 d^4} + h_{vp} + h_{vr}$$"
   ]
  },
  {
   "cell_type": "markdown",
   "metadata": {},
   "source": [
    "6. Application numérique :"
   ]
  },
  {
   "cell_type": "code",
   "execution_count": 38,
   "metadata": {},
   "outputs": [
    {
     "name": "stdout",
     "output_type": "stream",
     "text": [
      "v   : 3.18 m/s\n",
      "V   : 0.63 m/s\n",
      "ReL : 28294.21\n",
      "Rel : 63661.98\n",
      "hvs : 0.89 m\n",
      "hvr : 5.80 m\n",
      "hQ  : 0.52 m\n",
      "h   : 7.20 m\n"
     ]
    }
   ],
   "source": [
    "import numpy as np\n",
    "import matplotlib.pyplot as plt\n",
    "\n",
    "Q = 1*1e-3   # Débit en m/s\n",
    "D = 4.5*1e-2 # D en m\n",
    "d = 2*1e-2   # d en m\n",
    "L = 60       # L en m\n",
    "l = 10       # l en m\n",
    "mu = 1e-3    # mu en Pa/s\n",
    "rho = 1e3    # rho en kg/m3\n",
    "g   = 9.81   # gravite en m/s2\n",
    "v = 4*Q/(np.pi*d**2)\n",
    "V = 4*Q/(np.pi*D**2)\n",
    "\n",
    "ReL = rho*D*V/mu\n",
    "Rel = rho*d*v/mu\n",
    "\n",
    "hvp = 1/(2*g)*(5*0.8*V**2 + 0.45*(1-d**2/D**2)*v**2 + 1.2*v**2)\n",
    "hvr = 0.3164/(2*g)*( (L/(D*ReL**0.25))*V**2 + (l/(d*Rel**0.25))*v**2)\n",
    "\n",
    "hQ = (8*Q**2)/(g*np.pi**2*d**4)\n",
    "\n",
    "h = hQ + hvp + hvr\n",
    "print('v   : %.2f m/s'%v)\n",
    "print('V   : %.2f m/s'%V)\n",
    "print('ReL : %.2f'%ReL)\n",
    "print('Rel : %.2f'%Rel)\n",
    "print('hvs : %.2f m'%hvp)\n",
    "print('hvr : %.2f m'%hvr)\n",
    "print('hQ  : %.2f m'%hQ)\n",
    "print('h   : %.2f m'%h)"
   ]
  },
  {
   "cell_type": "markdown",
   "metadata": {},
   "source": [
    "7. Pourquoi la perte de charge dans les coudes est-elle si faible ?"
   ]
  },
  {
   "cell_type": "markdown",
   "metadata": {},
   "source": [
    "Parce que la vitesse d'écoulement est très faible ..."
   ]
  },
  {
   "cell_type": "markdown",
   "metadata": {},
   "source": [
    "8. A quelle hauteur $h$ jet monterait le jet à la sortie du réseau si le tuyau était orienté vers le haut. Exprimez à nouveau l’expression de $h$ trouvée à la question 5 en faisant intervenir cette dernière grandeur, et interprétez le résultat en termes énergétiques."
   ]
  },
  {
   "cell_type": "markdown",
   "metadata": {},
   "source": [
    "La hauteur $h$ atteinte correspond à un échange entre toute l'énergie cinétique du jet à la sortie et de l'énergie potentielle qu'aurait le jet à la hauteur $h_\\text{jet}$ (et à vitesse nulle). Donc :\n",
    "$$h_\\text{jet}=\\dfrac{8Q^2}{g\\pi^2 d^4}$$"
   ]
  },
  {
   "cell_type": "code",
   "execution_count": 40,
   "metadata": {},
   "outputs": [
    {
     "name": "stdout",
     "output_type": "stream",
     "text": [
      "h_jet  : 0.52 m\n"
     ]
    }
   ],
   "source": [
    "print('h_jet  : %.2f m'%hQ)"
   ]
  },
  {
   "cell_type": "markdown",
   "metadata": {},
   "source": [
    "9. Si la citerne était enterrée, et que l’on ait $h = 0$, quelle devrait être la puissance de la pompe utilisée pour obtenir le même débit (donner l’expression analytique puis la valeur numérique)."
   ]
  },
  {
   "cell_type": "markdown",
   "metadata": {},
   "source": [
    "On applique à nouveau bernouilli généralisé entre 1 à la surface libre ($z_1=0$m) et 2 à la sortie du tuyau, en reprenant l'expression précédénte, en notant $h_u$ la hauteur utile de la pompe, on a :\n",
    "\n",
    "$$\\dfrac{8Q^2}{g\\pi^2 d^4} =  h_u - h_{vp} - h_{vr} \\Rightarrow h_u = \\dfrac{8Q^2}{g\\pi^2 d^4} + h_{vp} + h_{vr}$$\n",
    "\n",
    "La puissance que la pompe doit fournir au fluide (\"puissance hydraulique\") pour avoir le débit $Q$ vaut :\n",
    "\n",
    "$$\\mathcal{P}=\\rho g\\left(\\dfrac{8Q^2}{g\\pi^2 d^4} + h_{vp} + h_{vr}\\right)Q$$"
   ]
  },
  {
   "cell_type": "code",
   "execution_count": 37,
   "metadata": {},
   "outputs": [
    {
     "name": "stdout",
     "output_type": "stream",
     "text": [
      "Puissance hydraulique :70.650 W\n"
     ]
    }
   ],
   "source": [
    "print('Puissance hydraulique :%.3f W'%(Q*rho*g*(hQ+hvp+hvr)))"
   ]
  }
 ],
 "metadata": {
  "kernelspec": {
   "display_name": "Python 3",
   "language": "python",
   "name": "python3"
  },
  "language_info": {
   "codemirror_mode": {
    "name": "ipython",
    "version": 3
   },
   "file_extension": ".py",
   "mimetype": "text/x-python",
   "name": "python",
   "nbconvert_exporter": "python",
   "pygments_lexer": "ipython3",
   "version": "3.7.7"
  }
 },
 "nbformat": 4,
 "nbformat_minor": 4
}
